{
  "nbformat": 4,
  "nbformat_minor": 0,
  "metadata": {
    "colab": {
      "name": "Heatmap",
      "provenance": [],
      "collapsed_sections": [],
      "authorship_tag": "ABX9TyPSfaJ0+Elh46M1GAJJTOe0",
      "include_colab_link": true
    },
    "kernelspec": {
      "name": "python3",
      "display_name": "Python 3"
    },
    "language_info": {
      "name": "python"
    }
  },
  "cells": [
    {
      "cell_type": "markdown",
      "metadata": {
        "id": "view-in-github",
        "colab_type": "text"
      },
      "source": [
        "<a href=\"https://colab.research.google.com/github/JulioGmz89/RetoAnalitica_Equipo8/blob/main/Heatmap.ipynb\" target=\"_parent\"><img src=\"https://colab.research.google.com/assets/colab-badge.svg\" alt=\"Open In Colab\"/></a>"
      ]
    },
    {
      "cell_type": "code",
      "metadata": {
        "id": "VoaX-K0jxsJg"
      },
      "source": [
        "import numpy as np"
      ],
      "execution_count": 5,
      "outputs": []
    },
    {
      "cell_type": "code",
      "metadata": {
        "id": "mpVy9pI5TKcT"
      },
      "source": [
        "import pandas as pd"
      ],
      "execution_count": 4,
      "outputs": []
    },
    {
      "cell_type": "code",
      "metadata": {
        "id": "friI4Ry4R5g7"
      },
      "source": [
        "import seaborn as sb"
      ],
      "execution_count": 5,
      "outputs": []
    },
    {
      "cell_type": "code",
      "metadata": {
        "id": "5L4KcEawR-Ki"
      },
      "source": [
        "import matplotlib.pyplot as plt"
      ],
      "execution_count": 6,
      "outputs": []
    },
    {
      "cell_type": "code",
      "metadata": {
        "colab": {
          "base_uri": "https://localhost:8080/"
        },
        "id": "uHww7F-oSFS7",
        "outputId": "0eabd59a-c708-498f-e13e-ae95cc0ce0d3"
      },
      "source": [
        "df=pd.read_csv('datasheets1.csv')\n",
        "df1=df.head(100)\n",
        "print(df1)"
      ],
      "execution_count": 7,
      "outputs": [
        {
          "output_type": "stream",
          "name": "stdout",
          "text": [
            "    NA_Sales  EU_Sales  JP_Sales  Other_Sales  Global_Sales\n",
            "0      41.49     29.02      3.77         8.46         82.74\n",
            "1      29.08      3.58      6.81         0.77         40.24\n",
            "2      15.85     12.88      3.79         3.31         35.82\n",
            "3      15.75     11.01      3.28         2.96         33.00\n",
            "4      11.27      8.89     10.22         1.00         31.37\n",
            "..       ...       ...       ...          ...           ...\n",
            "95      3.78      2.17      1.31         0.31          7.58\n",
            "96      5.39      1.18      0.70         0.19          7.46\n",
            "97      3.24      1.35      2.42         0.43          7.45\n",
            "98      4.79      1.90      0.00         0.69          7.37\n",
            "99      4.46      2.13      0.06         0.69          7.34\n",
            "\n",
            "[100 rows x 5 columns]\n"
          ]
        }
      ]
    },
    {
      "cell_type": "code",
      "metadata": {
        "colab": {
          "base_uri": "https://localhost:8080/",
          "height": 322
        },
        "id": "EysACoqrSq1M",
        "outputId": "8fd10e06-8861-40aa-a43f-c6520fd6bb87"
      },
      "source": [
        "heat_map=sb.heatmap(df1)"
      ],
      "execution_count": 8,
      "outputs": [
        {
          "output_type": "display_data",
          "data": {
            "image/png": "[encoded data removed]",
            "text/plain": [
              "<Figure size 432x288 with 2 Axes>"
            ]
          },
          "metadata": {
            "needs_background": "light"
          }
        }
      ]
    },
    {
      "cell_type": "code",
      "metadata": {
        "id": "3q4B_cznWEDx"
      },
      "source": [
        "box_plot=plt.boxplot(df)"
      ],
      "execution_count": null,
      "outputs": []
    },
    {
      "cell_type": "code",
      "metadata": {
        "id": "94o0KAMSXtVa"
      },
      "source": [
        "plt.hist(df)"
      ],
      "execution_count": null,
      "outputs": []
    }
  ]
}