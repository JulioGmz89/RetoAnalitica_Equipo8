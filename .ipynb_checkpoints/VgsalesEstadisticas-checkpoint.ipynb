{
 "cells": [
  {
   "cell_type": "code",
   "execution_count": 1,
   "id": "0c476553",
   "metadata": {},
   "outputs": [],
   "source": [
    "import pandas as pd"
   ]
  },
  {
   "cell_type": "code",
   "execution_count": 74,
   "id": "acebd21f",
   "metadata": {},
   "outputs": [
    {
     "name": "stdout",
     "output_type": "stream",
     "text": [
      "                      Publisher  Global_Sales\n",
      "0                      Nintendo         82.74\n",
      "1                      Nintendo         40.24\n",
      "2                      Nintendo         35.82\n",
      "3                      Nintendo         33.00\n",
      "4                      Nintendo         31.37\n",
      "..                          ...           ...\n",
      "95  Sony Computer Entertainment          7.58\n",
      "96                     Nintendo          7.46\n",
      "97                     Nintendo          7.45\n",
      "98                   Activision          7.37\n",
      "99              Electronic Arts          7.34\n",
      "\n",
      "[100 rows x 2 columns]\n"
     ]
    }
   ],
   "source": [
    "df = pd.read_csv('archive/vgsales.csv', usecols=[5,10])\n",
    "print(df)"
   ]
  },
  {
   "cell_type": "code",
   "execution_count": 102,
   "id": "302b95ca",
   "metadata": {},
   "outputs": [
    {
     "name": "stdout",
     "output_type": "stream",
     "text": [
      "Media: 14.619799999999989\n",
      "Mediana: 11.254999999999999\n",
      "Desvación estándar: 9.936065109417603\n"
     ]
    }
   ],
   "source": [
    "gs = df['Global_Sales']\n",
    "print('Media:', gs.mean())\n",
    "print('Mediana:', gs.median())\n",
    "print('Desvación estándar:', gs.std())"
   ]
  },
  {
   "cell_type": "code",
   "execution_count": 34,
   "id": "8dfb7cbc",
   "metadata": {},
   "outputs": [
    {
     "data": {
      "text/plain": [
       "array(['Nintendo', 'Microsoft Game Studios', 'Take-Two Interactive',\n",
       "       'Sony Computer Entertainment', 'Activision', 'Ubisoft',\n",
       "       'Bethesda Softworks', 'Electronic Arts', 'Sega', 'SquareSoft',\n",
       "       'Atari'], dtype=object)"
      ]
     },
     "execution_count": 34,
     "metadata": {},
     "output_type": "execute_result"
    }
   ],
   "source": [
    "pd.unique(df['Publisher'])"
   ]
  },
  {
   "cell_type": "code",
   "execution_count": 87,
   "id": "aec68028",
   "metadata": {},
   "outputs": [
    {
     "name": "stdout",
     "output_type": "stream",
     "text": [
      "Media Nintendo: 17.69769230769231\n",
      "Mediana Nintendo: 12.655\n",
      "Desvación estándar Nintendo: 12.618799019232487\n"
     ]
    }
   ],
   "source": [
    "dfN = df[p == 'Nintendo']\n",
    "gsN = dfN['Global_Sales']\n",
    "print('Media Nintendo:', gsN.mean())\n",
    "print('Mediana Nintendo:', gsN.median())\n",
    "print('Desvación estándar Nintendo:', gsN.std())"
   ]
  },
  {
   "cell_type": "code",
   "execution_count": 89,
   "id": "a870bd95",
   "metadata": {},
   "outputs": [
    {
     "name": "stdout",
     "output_type": "stream",
     "text": [
      "Media Microsoft Game Studios: 11.881666666666666\n",
      "Mediana Microsoft Game Studios: 9.82\n",
      "Desvación estándar Microsoft Game Studios: 5.020758574823795\n"
     ]
    }
   ],
   "source": [
    "dfM = df[p == 'Microsoft Game Studios']\n",
    "gsM = dfM['Global_Sales']\n",
    "print('Media Microsoft Game Studios:', gsM.mean())\n",
    "print('Mediana Microsoft Game Studios:', gsM.median())\n",
    "print('Desvación estándar Microsoft Game Studios:', gsM.std())"
   ]
  },
  {
   "cell_type": "code",
   "execution_count": 90,
   "id": "6090375b",
   "metadata": {
    "scrolled": true
   },
   "outputs": [
    {
     "name": "stdout",
     "output_type": "stream",
     "text": [
      "Media Take-Two Interactive: 14.347777777777774\n",
      "Mediana Take-Two Interactive: 13.1\n",
      "Desvación estándar Take-Two Interactive: 4.681193164615666\n"
     ]
    }
   ],
   "source": [
    "dfTTI = df[p == 'Take-Two Interactive']\n",
    "gsTTI = dfTTI['Global_Sales']\n",
    "print('Media Take-Two Interactive:', gsTTI.mean())\n",
    "print('Mediana Take-Two Interactive:', gsTTI.median())\n",
    "print('Desvación estándar Take-Two Interactive:', gsTTI.std())"
   ]
  },
  {
   "cell_type": "code",
   "execution_count": 91,
   "id": "00a7969f",
   "metadata": {},
   "outputs": [
    {
     "name": "stdout",
     "output_type": "stream",
     "text": [
      "Media Sony Computer Entertainment: 10.399999999999999\n",
      "Mediana Sony Computer Entertainment: 10.245000000000001\n",
      "Desvación estándar Sony Computer Entertainment: 2.3228307853011714\n"
     ]
    }
   ],
   "source": [
    "dfSCE = df[p == 'Sony Computer Entertainment']\n",
    "gsSCE = dfSCE['Global_Sales']\n",
    "print('Media Sony Computer Entertainment:', gsSCE.mean())\n",
    "print('Mediana Sony Computer Entertainment:', gsSCE.median())\n",
    "print('Desvación estándar Sony Computer Entertainment:', gsSCE.std())"
   ]
  },
  {
   "cell_type": "code",
   "execution_count": 93,
   "id": "28baae21",
   "metadata": {},
   "outputs": [
    {
     "name": "stdout",
     "output_type": "stream",
     "text": [
      "Media Activision: 11.848571428571429\n",
      "Mediana Activision: 13.095\n",
      "Desvación estándar Activision: 2.631901497872877\n"
     ]
    }
   ],
   "source": [
    "dfA = df[p == 'Activision']\n",
    "gsA = dfA['Global_Sales'] \n",
    "print('Media Activision:', gsA.mean())\n",
    "print('Mediana Activision:', gsA.median())\n",
    "print('Desvación estándar Activision:', gsA.std()) "
   ]
  },
  {
   "cell_type": "code",
   "execution_count": 94,
   "id": "1e7118f8",
   "metadata": {},
   "outputs": [
    {
     "name": "stdout",
     "output_type": "stream",
     "text": [
      "Media Ubisoft: 9.89\n",
      "Mediana Ubisoft: 9.89\n",
      "Desvación estándar Ubisoft: 0.5232590180780453\n"
     ]
    }
   ],
   "source": [
    "dfU = df[p == 'Ubisoft']\n",
    "gsU = dfU['Global_Sales']\n",
    "print('Media Ubisoft:', gsU.mean())\n",
    "print('Mediana Ubisoft:', gsU.median())\n",
    "print('Desvación estándar Ubisoft:', gsU.std())"
   ]
  },
  {
   "cell_type": "code",
   "execution_count": 97,
   "id": "45b37581",
   "metadata": {},
   "outputs": [
    {
     "name": "stdout",
     "output_type": "stream",
     "text": [
      "Media Bethesda Softworks: 8.84\n",
      "Mediana Bethesda Softworks: 8.84\n",
      "Desvación estándar Bethesda Softworks: nan\n"
     ]
    }
   ],
   "source": [
    "dfBS = df[p == 'Bethesda Softworks']\n",
    "gsBS = dfBS['Global_Sales']\n",
    "print('Media Bethesda Softworks:', gsBS.mean())\n",
    "print('Mediana Bethesda Softworks:', gsBS.median())\n",
    "print('Desvación estándar Bethesda Softworks:', gsBS.std())"
   ]
  },
  {
   "cell_type": "code",
   "execution_count": 98,
   "id": "7bbc562b",
   "metadata": {},
   "outputs": [
    {
     "name": "stdout",
     "output_type": "stream",
     "text": [
      "Media Electronic Arts: 7.969999999999999\n",
      "Mediana Electronic Arts: 8.11\n",
      "Desvación estándar Electronic Arts: 0.46092298705966067\n"
     ]
    }
   ],
   "source": [
    "dfEA = df[p == 'Electronic Arts']\n",
    "gsEA = dfEA['Global_Sales']\n",
    "print('Media Electronic Arts:', gsEA.mean())\n",
    "print('Mediana Electronic Arts:', gsEA.median())\n",
    "print('Desvación estándar Electronic Arts:', gsEA.std())"
   ]
  },
  {
   "cell_type": "code",
   "execution_count": 99,
   "id": "8092c4ad",
   "metadata": {},
   "outputs": [
    {
     "name": "stdout",
     "output_type": "stream",
     "text": [
      "Media Sega: 8.06\n",
      "Mediana Sega: 8.06\n",
      "Desvación estándar Sega: nan\n"
     ]
    }
   ],
   "source": [
    "dfS = df[p == 'Sega']\n",
    "gsS = dfS['Global_Sales']\n",
    "print('Media Sega:', gsS.mean())\n",
    "print('Mediana Sega:', gsS.median())\n",
    "print('Desvación estándar Sega:', gsS.std())"
   ]
  },
  {
   "cell_type": "code",
   "execution_count": 103,
   "id": "c6ff9756",
   "metadata": {},
   "outputs": [
    {
     "name": "stdout",
     "output_type": "stream",
     "text": [
      "Media SquareSoft: 7.86\n",
      "Mediana SquareSoft: 7.86\n",
      "Desvación estándar SquareSoft: nan\n"
     ]
    }
   ],
   "source": [
    "dfSq = df[p == 'SquareSoft']\n",
    "gsSq = dfSq['Global_Sales']\n",
    "print('Media SquareSoft:', gsSq.mean())\n",
    "print('Mediana SquareSoft:', gsSq.median())\n",
    "print('Desvación estándar SquareSoft:', gsSq.std())"
   ]
  },
  {
   "cell_type": "code",
   "execution_count": 101,
   "id": "4f7f5c87",
   "metadata": {},
   "outputs": [
    {
     "name": "stdout",
     "output_type": "stream",
     "text": [
      "Media Atari: 7.81\n",
      "Mediana Atari: 7.81\n",
      "Desvación estándar Atari: nan\n"
     ]
    }
   ],
   "source": [
    "dfAt = df[p == 'Atari']\n",
    "gsAt = dfAt['Global_Sales']\n",
    "print('Media Atari:', gsAt.mean())\n",
    "print('Mediana Atari:', gsAt.median())\n",
    "print('Desvación estándar Atari:', gsAt.std())"
   ]
  },
  {
   "cell_type": "code",
   "execution_count": null,
   "id": "aecd3483",
   "metadata": {},
   "outputs": [],
   "source": []
  }
 ],
 "metadata": {
  "kernelspec": {
   "display_name": "Python 3",
   "language": "python",
   "name": "python3"
  },
  "language_info": {
   "codemirror_mode": {
    "name": "ipython",
    "version": 3
   },
   "file_extension": ".py",
   "mimetype": "text/x-python",
   "name": "python",
   "nbconvert_exporter": "python",
   "pygments_lexer": "ipython3",
   "version": "3.8.8"
  }
 },
 "nbformat": 4,
 "nbformat_minor": 5
}
